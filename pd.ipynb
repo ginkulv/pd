{
 "cells": [
  {
   "cell_type": "markdown",
   "metadata": {},
   "source": [
    "# Проектная деятельность\n",
    "\n",
    "Предварительный план:\n",
    "    1. Исключить коррелированные факторы\n",
    "    2. Преобразовать факторы необходимым образом\n",
    "    3. Составить logit-модель\n",
    "    4. Проверить статистическую значимость модели и параметров\n",
    "    5. Проверить остатки на гомоскедастичность\n",
    "    6. (*) Преобразовать с помощью ВМНК\n",
    "## Импортирую данные\n"
   ]
  },
  {
   "cell_type": "code",
   "execution_count": 63,
   "metadata": {},
   "outputs": [
    {
     "data": {
      "text/html": [
       "<div>\n",
       "<style scoped>\n",
       "    .dataframe tbody tr th:only-of-type {\n",
       "        vertical-align: middle;\n",
       "    }\n",
       "\n",
       "    .dataframe tbody tr th {\n",
       "        vertical-align: top;\n",
       "    }\n",
       "\n",
       "    .dataframe thead th {\n",
       "        text-align: right;\n",
       "    }\n",
       "</style>\n",
       "<table border=\"1\" class=\"dataframe\">\n",
       "  <thead>\n",
       "    <tr style=\"text-align: right;\">\n",
       "      <th></th>\n",
       "      <th>Y</th>\n",
       "      <th>X1</th>\n",
       "      <th>X2</th>\n",
       "      <th>X3</th>\n",
       "      <th>X4</th>\n",
       "      <th>X5</th>\n",
       "      <th>X6</th>\n",
       "      <th>X7</th>\n",
       "      <th>X8</th>\n",
       "    </tr>\n",
       "  </thead>\n",
       "  <tbody>\n",
       "    <tr>\n",
       "      <th>0</th>\n",
       "      <td>1</td>\n",
       "      <td>1</td>\n",
       "      <td>1</td>\n",
       "      <td>0.112060</td>\n",
       "      <td>0.000000</td>\n",
       "      <td>6.339057</td>\n",
       "      <td>0.630987</td>\n",
       "      <td>-0.369552</td>\n",
       "      <td>-124.489772</td>\n",
       "    </tr>\n",
       "    <tr>\n",
       "      <th>1</th>\n",
       "      <td>1</td>\n",
       "      <td>1</td>\n",
       "      <td>0</td>\n",
       "      <td>1.000000</td>\n",
       "      <td>0.000000</td>\n",
       "      <td>4.534888</td>\n",
       "      <td>0.789288</td>\n",
       "      <td>-0.261901</td>\n",
       "      <td>91.378092</td>\n",
       "    </tr>\n",
       "    <tr>\n",
       "      <th>2</th>\n",
       "      <td>1</td>\n",
       "      <td>0</td>\n",
       "      <td>0</td>\n",
       "      <td>-0.405078</td>\n",
       "      <td>0.000463</td>\n",
       "      <td>0.941934</td>\n",
       "      <td>1.004983</td>\n",
       "      <td>0.012218</td>\n",
       "      <td>37.310142</td>\n",
       "    </tr>\n",
       "    <tr>\n",
       "      <th>3</th>\n",
       "      <td>1</td>\n",
       "      <td>1</td>\n",
       "      <td>1</td>\n",
       "      <td>0.174465</td>\n",
       "      <td>0.000000</td>\n",
       "      <td>0.001031</td>\n",
       "      <td>0.809411</td>\n",
       "      <td>-0.140484</td>\n",
       "      <td>-96.389418</td>\n",
       "    </tr>\n",
       "    <tr>\n",
       "      <th>4</th>\n",
       "      <td>1</td>\n",
       "      <td>0</td>\n",
       "      <td>0</td>\n",
       "      <td>0.079430</td>\n",
       "      <td>0.315265</td>\n",
       "      <td>1.970448</td>\n",
       "      <td>0.525311</td>\n",
       "      <td>0.115483</td>\n",
       "      <td>2.417222</td>\n",
       "    </tr>\n",
       "  </tbody>\n",
       "</table>\n",
       "</div>"
      ],
      "text/plain": [
       "   Y  X1  X2        X3        X4        X5        X6        X7          X8\n",
       "0  1   1   1  0.112060  0.000000  6.339057  0.630987 -0.369552 -124.489772\n",
       "1  1   1   0  1.000000  0.000000  4.534888  0.789288 -0.261901   91.378092\n",
       "2  1   0   0 -0.405078  0.000463  0.941934  1.004983  0.012218   37.310142\n",
       "3  1   1   1  0.174465  0.000000  0.001031  0.809411 -0.140484  -96.389418\n",
       "4  1   0   0  0.079430  0.315265  1.970448  0.525311  0.115483    2.417222"
      ]
     },
     "execution_count": 63,
     "metadata": {},
     "output_type": "execute_result"
    }
   ],
   "source": [
    "import numpy as np\n",
    "import pandas as pd\n",
    "df = pd.read_excel('pd_data.xlsx', index_col=0, sheet_name='Данные', skiprows=3)\n",
    "features = {'X1': '1, если совокупные обязательства превышают совокупные активы',\n",
    "            'X2': '1, если за текущий и предшествующий период прибыль отрицательная',\n",
    "            'X3': 'Мера изменения чистого дохода за последние два года',\n",
    "            'X4': 'Проценты к уплате/выручка',\n",
    "            'X5': 'Выручка/дебиторская задолженность',\n",
    "            'X6': 'Коэффициент текущей ликвидности',\n",
    "            'X7': 'Коэффициент финансовой независимости',\n",
    "            'X8': 'Коэффициент рентабельности внеоборотных активов'}\n",
    "df.index = [list(range(len(df)))]\n",
    "df.head()"
   ]
  },
  {
   "cell_type": "markdown",
   "metadata": {},
   "source": [
    "## Исключение незначимых факторов"
   ]
  },
  {
   "cell_type": "code",
   "execution_count": 64,
   "metadata": {},
   "outputs": [
    {
     "name": "stdout",
     "output_type": "stream",
     "text": [
      "Optimization terminated successfully.\n",
      "         Current function value: 0.301692\n",
      "         Iterations 9\n",
      "Dropping column X4 with level of significance 0.6064371926638968\n",
      "Optimization terminated successfully.\n",
      "         Current function value: 0.306553\n",
      "         Iterations 9\n",
      "Dropping column intercept with level of significance 0.6292588166997459\n",
      "Optimization terminated successfully.\n",
      "         Current function value: 0.309561\n",
      "         Iterations 9\n",
      "Dropping column X7 with level of significance 0.6534145938605584\n",
      "Optimization terminated successfully.\n",
      "         Current function value: 0.312397\n",
      "         Iterations 9\n",
      "Dropping column X8 with level of significance 0.6137347695995858\n",
      "Optimization terminated successfully.\n",
      "         Current function value: 0.379899\n",
      "         Iterations 7\n",
      "Dropping column X2 with level of significance 0.45618609397163423\n",
      "Optimization terminated successfully.\n",
      "         Current function value: 0.387040\n",
      "         Iterations 7\n",
      "Dropping column X5 with level of significance 0.38501347335761194\n",
      "Optimization terminated successfully.\n",
      "         Current function value: 0.399163\n",
      "         Iterations 7\n"
     ]
    },
    {
     "data": {
      "text/html": [
       "<table class=\"simpletable\">\n",
       "<caption>Logit Regression Results</caption>\n",
       "<tr>\n",
       "  <th>Dep. Variable:</th>           <td>y</td>        <th>  No. Observations:  </th>  <td>    40</td>  \n",
       "</tr>\n",
       "<tr>\n",
       "  <th>Model:</th>                 <td>Logit</td>      <th>  Df Residuals:      </th>  <td>    37</td>  \n",
       "</tr>\n",
       "<tr>\n",
       "  <th>Method:</th>                 <td>MLE</td>       <th>  Df Model:          </th>  <td>     2</td>  \n",
       "</tr>\n",
       "<tr>\n",
       "  <th>Date:</th>            <td>Wed, 25 Mar 2020</td> <th>  Pseudo R-squ.:     </th>  <td>0.4241</td>  \n",
       "</tr>\n",
       "<tr>\n",
       "  <th>Time:</th>                <td>16:17:36</td>     <th>  Log-Likelihood:    </th> <td> -15.967</td> \n",
       "</tr>\n",
       "<tr>\n",
       "  <th>converged:</th>             <td>True</td>       <th>  LL-Null:           </th> <td> -27.726</td> \n",
       "</tr>\n",
       "<tr>\n",
       "  <th>Covariance Type:</th>     <td>nonrobust</td>    <th>  LLR p-value:       </th> <td>7.816e-06</td>\n",
       "</tr>\n",
       "</table>\n",
       "<table class=\"simpletable\">\n",
       "<tr>\n",
       "   <td></td>     <th>coef</th>     <th>std err</th>      <th>z</th>      <th>P>|z|</th>  <th>[0.025</th>    <th>0.975]</th>  \n",
       "</tr>\n",
       "<tr>\n",
       "  <th>x1</th> <td>    3.4453</td> <td>    1.212</td> <td>    2.842</td> <td> 0.004</td> <td>    1.069</td> <td>    5.821</td>\n",
       "</tr>\n",
       "<tr>\n",
       "  <th>x2</th> <td>   -1.8430</td> <td>    0.828</td> <td>   -2.227</td> <td> 0.026</td> <td>   -3.465</td> <td>   -0.221</td>\n",
       "</tr>\n",
       "<tr>\n",
       "  <th>x3</th> <td>   -0.4504</td> <td>    0.220</td> <td>   -2.043</td> <td> 0.041</td> <td>   -0.882</td> <td>   -0.018</td>\n",
       "</tr>\n",
       "</table>"
      ],
      "text/plain": [
       "<class 'statsmodels.iolib.summary.Summary'>\n",
       "\"\"\"\n",
       "                           Logit Regression Results                           \n",
       "==============================================================================\n",
       "Dep. Variable:                      y   No. Observations:                   40\n",
       "Model:                          Logit   Df Residuals:                       37\n",
       "Method:                           MLE   Df Model:                            2\n",
       "Date:                Wed, 25 Mar 2020   Pseudo R-squ.:                  0.4241\n",
       "Time:                        16:17:36   Log-Likelihood:                -15.967\n",
       "converged:                       True   LL-Null:                       -27.726\n",
       "Covariance Type:            nonrobust   LLR p-value:                 7.816e-06\n",
       "==============================================================================\n",
       "                 coef    std err          z      P>|z|      [0.025      0.975]\n",
       "------------------------------------------------------------------------------\n",
       "x1             3.4453      1.212      2.842      0.004       1.069       5.821\n",
       "x2            -1.8430      0.828     -2.227      0.026      -3.465      -0.221\n",
       "x3            -0.4504      0.220     -2.043      0.041      -0.882      -0.018\n",
       "==============================================================================\n",
       "\"\"\""
      ]
     },
     "execution_count": 64,
     "metadata": {},
     "output_type": "execute_result"
    }
   ],
   "source": [
    "import statsmodels.api as sm\n",
    "df['intercept'] = 1\n",
    "data = df.copy()\n",
    "y_train = data['Y'].to_numpy()\n",
    "alpha = 0.1\n",
    "while True:\n",
    "    x_train = data.drop(['Y'], axis=1).to_numpy()\n",
    "    model = sm.Logit(y_train, x_train).fit()\n",
    "    largest_p = max(model.pvalues)\n",
    "    if largest_p > alpha:\n",
    "        index = np.argmax(model.pvalues) + 1\n",
    "        print(f'Dropping column {data.columns[index]} with level of significance {largest_p}')\n",
    "        data.drop(data.columns[index], axis=1, inplace=True)\n",
    "    else:\n",
    "        break\n",
    "\n",
    "model.summary()"
   ]
  },
  {
   "cell_type": "code",
   "execution_count": 71,
   "metadata": {},
   "outputs": [
    {
     "name": "stdout",
     "output_type": "stream",
     "text": [
      "85.0%\n"
     ]
    }
   ],
   "source": [
    "test_result = [round(value) for value in model.predict(x_train)]\n",
    "correct_pred = sum([1 for i, j in zip(test_result, y_train) if i == j])\n",
    "\n",
    "print(f'{correct_pred / len(df) * 100}%')"
   ]
  },
  {
   "cell_type": "markdown",
   "metadata": {},
   "source": [
    "## Проверка на гетероскедастичность"
   ]
  },
  {
   "cell_type": "code",
   "execution_count": 66,
   "metadata": {},
   "outputs": [
    {
     "data": {
      "image/png": "[encoded data removed]",
      "text/plain": [
       "<Figure size 432x288 with 1 Axes>"
      ]
     },
     "metadata": {
      "needs_background": "light"
     },
     "output_type": "display_data"
    },
    {
     "data": {
      "image/png": "[encoded data removed]",
      "text/plain": [
       "<Figure size 432x288 with 1 Axes>"
      ]
     },
     "metadata": {
      "needs_background": "light"
     },
     "output_type": "display_data"
    },
    {
     "data": {
      "image/png": "[encoded data removed]",
      "text/plain": [
       "<Figure size 432x288 with 1 Axes>"
      ]
     },
     "metadata": {
      "needs_background": "light"
     },
     "output_type": "display_data"
    }
   ],
   "source": [
    "from matplotlib import pylab as plt\n",
    "import statsmodels.stats.diagnostic as sms \n",
    "for column in data.drop('Y', axis=1).columns:\n",
    "    plt.ylabel('Epsilon')\n",
    "    plt.xlabel(features[column])\n",
    "    plt.scatter(data[column], model.resid_generalized)\n",
    "    plt.show()"
   ]
  },
  {
   "cell_type": "code",
   "execution_count": 70,
   "metadata": {},
   "outputs": [
    {
     "name": "stdout",
     "output_type": "stream",
     "text": [
      "F_exp = 0.3999999999999999 < F_cr = 2.09\n",
      "F_exp = 0.5007864970110885 < F_cr = 2.09\n",
      "F_exp = 0.9086858202225908 < F_cr = 2.09\n"
     ]
    }
   ],
   "source": [
    "from statsmodels.api import OLS\n",
    "def goldfeldquandt(ys, xs):\n",
    "    f_cr = 2.09 # Взято из таблицы\n",
    "    split = len(ys) // 2\n",
    "    fmodel = OLS(ys[:split], xs[:split]).fit()\n",
    "    smodel = OLS(ys[split:], xs[split:]).fit()\n",
    "    f_exp = sum(smodel.resid) / sum(fmodel.resid)\n",
    "    sign = '>' if f_exp > f_cr else '<'\n",
    "    return f'F_exp = {f_exp} {sign} F_cr = {f_cr}'\n",
    "\n",
    "for column in data.drop('Y', axis=1):\n",
    "    x_test = data.sort_values(column)[column].to_numpy()\n",
    "    y_test = data.sort_values(column)['Y'].to_numpy()\n",
    "    print(goldfeldquandt(y_test, x_test))"
   ]
  },
  {
   "cell_type": "code",
   "execution_count": null,
   "metadata": {},
   "outputs": [],
   "source": []
  }
 ],
 "metadata": {
  "kernelspec": {
   "display_name": "Python 3",
   "language": "python",
   "name": "python3"
  },
  "language_info": {
   "codemirror_mode": {
    "name": "ipython",
    "version": 3
   },
   "file_extension": ".py",
   "mimetype": "text/x-python",
   "name": "python",
   "nbconvert_exporter": "python",
   "pygments_lexer": "ipython3",
   "version": "3.8.1"
  }
 },
 "nbformat": 4,
 "nbformat_minor": 4
}
